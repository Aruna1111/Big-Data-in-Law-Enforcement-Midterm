{
 "cells": [
  {
   "cell_type": "markdown",
   "id": "a1728671-476c-4a50-8e67-a6ad6f2f3515",
   "metadata": {},
   "source": [
    "# Big Data in Law Enforcement"
   ]
  },
  {
   "cell_type": "markdown",
   "id": "a36745ec-0d6d-41a0-83dd-cb69f0f0dbda",
   "metadata": {},
   "source": [
    "## Author:\n",
    "Dikanova Aruna"
   ]
  },
  {
   "cell_type": "markdown",
   "id": "2e268595-e2da-43b1-bbe6-a02317ef2387",
   "metadata": {},
   "source": [
    "## Introduction\n",
    "In cybersecurity, big data means using lots of information to better protect computer systems and networks from hackers and threats. This helps security experts detect and prevent cyberattacks more effectively, keeping sensitive data safe."
   ]
  },
  {
   "cell_type": "markdown",
   "id": "f271336a-6411-4f65-92a2-2c730bb26dc7",
   "metadata": {},
   "source": [
    "**Objectives:**\n",
    "+ Popular languages that Data Scientists use\n",
    "+ Commonly used libraries used by Data Scientist\n",
    "+ Data Science Tools"
   ]
  },
  {
   "cell_type": "markdown",
   "id": "af3d4cdf-7665-4c93-ba98-7311b34dc331",
   "metadata": {},
   "source": [
    "*Some of the popular languages that Data Scientists use are:*\n",
    "1. Python\n",
    "2. Java\n",
    "3. SQL\n",
    "4. C++\n",
    "5. R"
   ]
  },
  {
   "cell_type": "markdown",
   "id": "92e68683-34b2-480c-9e54-5a252f089674",
   "metadata": {},
   "source": [
    "*Some of the commonly used libraries used by Data Scientist include:*\n",
    "+ NumPy\n",
    "+ pandas\n",
    "+ scikit-learn\n",
    "+ Matplotlib\n",
    "+ Seaborn\n",
    "+ TensorFlow"
   ]
  },
  {
   "cell_type": "markdown",
   "id": "9fc03726-603b-4f60-a86c-ddac06f21865",
   "metadata": {},
   "source": [
    "| Data Science Tools              |\n",
    "|---------------------------------|\n",
    "| Apache Hadoop |\n",
    "| Apache Spark |\n",
    "| Jupyter Notebook |"
   ]
  },
  {
   "cell_type": "markdown",
   "id": "6606f1c3-50fd-4f35-a89e-392da499cc22",
   "metadata": {},
   "source": [
    "### Below are a few examples of evaluating arithmetic expressions in Python"
   ]
  },
  {
   "cell_type": "code",
   "execution_count": 1,
   "id": "882a5e3e-453f-4179-b4b7-0f7bb36e704e",
   "metadata": {},
   "outputs": [
    {
     "data": {
      "text/plain": [
       "5"
      ]
     },
     "execution_count": 1,
     "metadata": {},
     "output_type": "execute_result"
    }
   ],
   "source": [
    "2+3"
   ]
  },
  {
   "cell_type": "code",
   "execution_count": 3,
   "id": "a0637513-823b-44e9-9054-68f568e63f66",
   "metadata": {},
   "outputs": [
    {
     "data": {
      "text/plain": [
       "33"
      ]
     },
     "execution_count": 3,
     "metadata": {},
     "output_type": "execute_result"
    }
   ],
   "source": [
    "#This is a simple arithmetic expression\n",
    "(4*6)+9"
   ]
  },
  {
   "cell_type": "code",
   "execution_count": 4,
   "id": "6381f462-5385-4d15-a3cb-30c51184e9ae",
   "metadata": {},
   "outputs": [
    {
     "data": {
      "text/plain": [
       "5.0"
      ]
     },
     "execution_count": 4,
     "metadata": {},
     "output_type": "execute_result"
    }
   ],
   "source": [
    "#This will convert 300 minutes to hours by dividing by 60\n",
    "300/60"
   ]
  }
 ],
 "metadata": {
  "kernelspec": {
   "display_name": "Python 3 (ipykernel)",
   "language": "python",
   "name": "python3"
  },
  "language_info": {
   "codemirror_mode": {
    "name": "ipython",
    "version": 3
   },
   "file_extension": ".py",
   "mimetype": "text/x-python",
   "name": "python",
   "nbconvert_exporter": "python",
   "pygments_lexer": "ipython3",
   "version": "3.11.2"
  }
 },
 "nbformat": 4,
 "nbformat_minor": 5
}
